{
 "cells": [
  {
   "cell_type": "code",
   "execution_count": null,
   "metadata": {},
   "outputs": [],
   "source": [
    "from selenium import webdriver\n",
    "from selenium.webdriver.common.keys import Keys\n",
    "import time\n",
    "from pathlib import Path\n",
    "\n",
    "source1 = \"https://www.flipkart.com/apple-iphone-xs-space-grey-64-gb/p/itmf944ees7rprte?pid=MOBF944E5FTGHNCR&lid=LSTMOBF944E5FTGHNCRAH33S3&marketplace=FLIPKART&srno=s_1_2&otracker=search&otracker1=search&fm=SEARCH&iid=3bdbc1fe-fb28-4b87-b9dd-5cfa9bca72f7.MOBF944E5FTGHNCR.SEARCH&ppt=sp&ppn=sp&ssid=dh4th365ow0000001584871616021&qH=0b3f45b266a97d70\"\n",
    "source2 = \"https://www.amazon.in/Apple-iPhone-Xs-Max-64GB/dp/B07J3CJM4N/ref=sr_1_4?dchild=1&keywords=Apple+iPhone+XS+%28Space+Grey%2C+64+GB%29&qid=1584873760&s=electronics&sr=1-4\"\n",
    "source3 = \"https://www.croma.com/apple-iphone-xs-space-grey-64-gb-4-gb-ram-/p/214062\"\n",
    "\n",
    "# create a webdriver object for chrome-option and configure\n",
    "wait_imp = 10\n",
    "CO = webdriver.ChromeOptions()\n",
    "CO.add_experimental_option('useAutomationExtension', False)\n",
    "CO.add_argument('--ignore-certificate-errors')\n",
    "CO.add_argument('--start-maximized')\n",
    "wd = webdriver.Chrome(r'D:\\Learning\\Practice\\Selenium\\chromedriver.exe',options=CO)\n",
    "print (\"*************************************************************************** \\n\")\n",
    "print(\"                     Starting Program, Please wait ..... \\n\")\n",
    "\n",
    "print (\"Connecting to Flipkart\")\n",
    "wd.get(source1)\n",
    "wd.implicitly_wait(wait_imp)\n",
    "f_price = wd.find_element_by_xpath(\"/html/body/div[1]/div/div[3]/div[2]/div[1]/div[2]/div[2]/div/div[4]/div[1]/div/div[1]\")\n",
    "pr_name = wd.find_element_by_xpath(\"/html/body/div[1]/div/div[3]/div[2]/div[1]/div[2]/div[2]/div/div[1]/h1/span\")\n",
    "product = pr_name.text\n",
    "r_price = f_price.text\n",
    "# print (r_price[1:])\n",
    "print (\" ---> Successfully retrieved the price from Flipkart \\n\")\n",
    "time.sleep(2)\n",
    "\n",
    "print(\"Connecting to Amazon\")\n",
    "wd.get(source2)\n",
    "wd.implicitly_wait(wait_imp)\n",
    "# a_price = wd.find_element_by_id(\"priceblock_ourprice\")\n",
    "a_price = wd.find_element_by_xpath(\"/html/body/div[4]/div[2]/div[4]/div[10]/div[12]/div/table/tbody/tr[2]/td[2]/span[1]\")\n",
    "raw_p = a_price.text\n",
    "# print (raw_p[2:8])\n",
    "print (\" ---> Successfully retrieved the price from Amazon \\n\")\n",
    "time.sleep(2)\n",
    "\n",
    "print(\"Connecting to Croma\")\n",
    "wd.get(source3)\n",
    "wd.implicitly_wait(wait_imp)\n",
    "c_price = wd.find_element_by_xpath(\"/html/body/main/div[5]/div[1]/div[2]/div[2]/div/div/div[1]/div[3]/div[1]/div[2]/div[1]/div/div/span\")\n",
    "raw_c = c_price.text\n",
    "# print (raw_c[1:7])\n",
    "print (\" ---> Successfully retrieved the price from Croma\\n\")\n",
    "time.sleep(2)\n",
    "\n",
    "# Final display\n",
    "print (\"#------------------------------------------------------------------------#\")\n",
    "print (\"Price for [{}] on all websites, Prices are in INR \\n\".format(product))\n",
    "print(\"Price available at Flipkart is: \"+r_price[1:])\n",
    "print(\"  Price available at Amazon is: \"+raw_p[2:8])\n",
    "print(\"   Price available at Croma is: \"+raw_c[1:7])"
   ]
  },
  {
   "cell_type": "code",
   "execution_count": null,
   "metadata": {},
   "outputs": [],
   "source": [
    "import pandas as pd\n",
    "quotes=[]  # a list to store quotes\n",
    "\n",
    "table = soup.find\n"
   ]
  },
  {
   "cell_type": "code",
   "execution_count": 90,
   "metadata": {},
   "outputs": [
    {
     "ename": "AttributeError",
     "evalue": "'NoneType' object has no attribute 'findAll'",
     "output_type": "error",
     "traceback": [
      "\u001b[1;31m---------------------------------------------------------------------------\u001b[0m",
      "\u001b[1;31mAttributeError\u001b[0m                            Traceback (most recent call last)",
      "\u001b[1;32md:\\Find-IT Hack\\RepoGithub\\PriceComparation\\Machine1.ipynb Cell 3'\u001b[0m in \u001b[0;36m<cell line: 7>\u001b[1;34m()\u001b[0m\n\u001b[0;32m     <a href='vscode-notebook-cell:/d%3A/Find-IT%20Hack/RepoGithub/PriceComparation/Machine1.ipynb#ch0000001?line=10'>11</a>\u001b[0m soup \u001b[39m=\u001b[39m BeautifulSoup(r\u001b[39m.\u001b[39mcontent, \u001b[39m'\u001b[39m\u001b[39mhtml5lib\u001b[39m\u001b[39m'\u001b[39m) \u001b[39m# If this line causes an error, run 'pip install html5lib' or install html5lib\u001b[39;00m\n\u001b[0;32m     <a href='vscode-notebook-cell:/d%3A/Find-IT%20Hack/RepoGithub/PriceComparation/Machine1.ipynb#ch0000001?line=12'>13</a>\u001b[0m table \u001b[39m=\u001b[39m soup\u001b[39m.\u001b[39mfind(\u001b[39m'\u001b[39m\u001b[39mdiv\u001b[39m\u001b[39m'\u001b[39m, attrs \u001b[39m=\u001b[39m {\u001b[39m'\u001b[39m\u001b[39mc\u001b[39m\u001b[39m'\u001b[39m: \u001b[39m'\u001b[39m\u001b[39mrow shopee-search-item-result__items\u001b[39m\u001b[39m'\u001b[39m})\n\u001b[1;32m---> <a href='vscode-notebook-cell:/d%3A/Find-IT%20Hack/RepoGithub/PriceComparation/Machine1.ipynb#ch0000001?line=14'>15</a>\u001b[0m \u001b[39mfor\u001b[39;00m row \u001b[39min\u001b[39;00m table\u001b[39m.\u001b[39;49mfindAll(\u001b[39m'\u001b[39m\u001b[39mdiv\u001b[39m\u001b[39m'\u001b[39m,attrs \u001b[39m=\u001b[39m {\u001b[39m'\u001b[39m\u001b[39mclass\u001b[39m\u001b[39m'\u001b[39m:\u001b[39m'\u001b[39m\u001b[39mBm3ON\u001b[39m\u001b[39m'\u001b[39m}):\n\u001b[0;32m     <a href='vscode-notebook-cell:/d%3A/Find-IT%20Hack/RepoGithub/PriceComparation/Machine1.ipynb#ch0000001?line=15'>16</a>\u001b[0m     quote \u001b[39m=\u001b[39m {}\n\u001b[0;32m     <a href='vscode-notebook-cell:/d%3A/Find-IT%20Hack/RepoGithub/PriceComparation/Machine1.ipynb#ch0000001?line=16'>17</a>\u001b[0m     quote[\u001b[39m'\u001b[39m\u001b[39mtheme\u001b[39m\u001b[39m'\u001b[39m] \u001b[39m=\u001b[39m soup\u001b[39m.\u001b[39mfind(\u001b[39m\"\u001b[39m\u001b[39mspan\u001b[39m\u001b[39m\"\u001b[39m, class_\u001b[39m=\u001b[39m\u001b[39m\"\u001b[39m\u001b[39mooOxS\u001b[39m\u001b[39m\"\u001b[39m)\n",
      "\u001b[1;31mAttributeError\u001b[0m: 'NoneType' object has no attribute 'findAll'"
     ]
    }
   ],
   "source": [
    "import requests\n",
    "from bs4 import BeautifulSoup\n",
    "page = 1\n",
    "\n",
    "quotes=[]  # a list to store quotes\n",
    "\n",
    "for i in range(1):\n",
    "    URL = \"https://shopee.co.id/search?keyword=plastik%20kiloan\".format(page)\n",
    "    r = requests.get(URL)\n",
    "    \n",
    "    soup = BeautifulSoup(r.content, 'html5lib') # If this line causes an error, run 'pip install html5lib' or install html5lib\n",
    "   \n",
    "    table = soup.find('div', attrs = {'c': 'row shopee-search-item-result__items'})\n",
    "    \n",
    "    for row in table.findAll('div',attrs = {'class':'Bm3ON'}):\n",
    "        quote = {}\n",
    "        quote['theme'] = soup.find(\"span\", class_=\"ooOxS\")\n",
    "        # quote['url'] = row.a['href']\n",
    "        # quote['img'] = row.img['src']\n",
    "        # quote['lines'] = row.img['alt'].split(\" #\")[0]\n",
    "        # quote['author'] = row.img['alt'].split(\" #\")[1]\n",
    "        quotes.append(quote)\n",
    "\n",
    "    page = page + 1"
   ]
  },
  {
   "cell_type": "code",
   "execution_count": 95,
   "metadata": {},
   "outputs": [
    {
     "name": "stdout",
     "output_type": "stream",
     "text": [
      "None\n"
     ]
    }
   ],
   "source": [
    "URL = \"https://www.lazada.co.id/catalog/?q=bra&_keyori=ss&from=input&spm=a2o4j.searchlist.search.go.27b2567eswMGdt\".format(page)\n",
    "r = requests.get(URL)\n",
    "soup = BeautifulSoup(page.content, \"html.parser\")\n",
    "table = soup.find('div', attrs = {'class': 'Bm3ON'})\n",
    "print(table)\n",
    "\n"
   ]
  },
  {
   "cell_type": "code",
   "execution_count": 62,
   "metadata": {},
   "outputs": [
    {
     "name": "stdout",
     "output_type": "stream",
     "text": [
      "<div class=\"container\">\n",
      "            <div class=\"row justify-content-center\">\n",
      "                <div class=\"col-12 col-lg-10 text-center\">\n",
      "                    <div class=\"shadow bg-extra-dark-gray padding-two-all border-radius-6 width-70 lg-width-80 sm-width-100 mx-auto lg-padding-30px-all sm-padding-15px-all sm-margin-40px-top\">\n",
      "                        <h6 class=\"font-weight-300 text-white-2 margin-20px-bottom sm-margin-15px-bottom\">Get our FREE daily quote emails!</h6>\n",
      "                        <p class=\"text-medium width-70 mx-auto margin-40px-bottom sm-width-100 sm-margin-15px-bottom\">Get a daily inspirational quote in your inbox each weekday! Enter your email below to subscribe.</p>\n",
      "\n",
      "                        <form accept-charset=\"UTF-8\" action=\"/users\" class=\"simple_form search-box3 margin-10px-bottom\" id=\"new_user\" method=\"post\" novalidate=\"novalidate\"><input name=\"utf8\" type=\"hidden\" value=\"✓\"/><input name=\"authenticity_token\" type=\"hidden\" value=\"yBIHM8KaUy88uYWPCfstRKPs+P8qvV1zvFpzAcK33C0XrOL6ZN/NWX867WkndbIkZuJR6OHv0wYLtfpHsG6uLA==\"/>\n",
      "                            <div class=\"input-group add-on width-75 mx-auto sm-width-100\">\n",
      "                                <input class=\"string email optional form-control text-white\" id=\"user_email\" label=\"false\" name=\"user[email]\" placeholder=\"you@your-email.com\" type=\"text\"/>\n",
      "                                <div class=\"input-group-append\">\n",
      "                                    <button class=\"btn btn-default\" type=\"submit\"><i class=\"ti-arrow-right text-small m-0\"></i></button>\n",
      "                                </div>\n",
      "                            </div>\n",
      "</form>\n",
      "\n",
      "                    </div>\n",
      "                </div>\n",
      "            </div>\n",
      "        </div>\n"
     ]
    }
   ],
   "source": [
    "    URL = \"http://www.values.com/inspirational-quotes?page=1\".format(page)\n",
    "    r = requests.get(URL)\n",
    "    \n",
    "    soup = BeautifulSoup(r.content, 'html5lib') # If this line causes an error, run 'pip install html5lib' or install html5lib\n",
    "   \n",
    "    table = soup.find('div', attrs = {'class': 'container'})\n",
    "    print(table)"
   ]
  },
  {
   "cell_type": "code",
   "execution_count": 21,
   "metadata": {},
   "outputs": [
    {
     "data": {
      "text/html": [
       "<div>\n",
       "<style scoped>\n",
       "    .dataframe tbody tr th:only-of-type {\n",
       "        vertical-align: middle;\n",
       "    }\n",
       "\n",
       "    .dataframe tbody tr th {\n",
       "        vertical-align: top;\n",
       "    }\n",
       "\n",
       "    .dataframe thead th {\n",
       "        text-align: right;\n",
       "    }\n",
       "</style>\n",
       "<table border=\"1\" class=\"dataframe\">\n",
       "  <thead>\n",
       "    <tr style=\"text-align: right;\">\n",
       "      <th></th>\n",
       "    </tr>\n",
       "  </thead>\n",
       "  <tbody>\n",
       "  </tbody>\n",
       "</table>\n",
       "</div>"
      ],
      "text/plain": [
       "Empty DataFrame\n",
       "Columns: []\n",
       "Index: []"
      ]
     },
     "execution_count": 21,
     "metadata": {},
     "output_type": "execute_result"
    }
   ],
   "source": [
    "pd.DataFrame(quotes)"
   ]
  }
 ],
 "metadata": {
  "interpreter": {
   "hash": "27f6fea6f47ae512550f0b8facdbd035a93e1dd89633f7bf2dd00a2502c71d0d"
  },
  "kernelspec": {
   "display_name": "Python 3.10.4 64-bit",
   "language": "python",
   "name": "python3"
  },
  "language_info": {
   "codemirror_mode": {
    "name": "ipython",
    "version": 3
   },
   "file_extension": ".py",
   "mimetype": "text/x-python",
   "name": "python",
   "nbconvert_exporter": "python",
   "pygments_lexer": "ipython3",
   "version": "3.10.4"
  },
  "orig_nbformat": 4
 },
 "nbformat": 4,
 "nbformat_minor": 2
}
